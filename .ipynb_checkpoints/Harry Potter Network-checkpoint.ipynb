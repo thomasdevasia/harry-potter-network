{
 "cells": [
  {
   "cell_type": "code",
   "execution_count": 1,
   "metadata": {},
   "outputs": [],
   "source": [
    "import os\n",
    "import time\n",
    "\n",
    "from selenium import webdriver\n",
    "from selenium.webdriver.common.keys import Keys\n",
    "from selenium.webdriver.common.by import By\n",
    "from selenium.webdriver.chrome.options import Options\n",
    "\n",
    "import pandas as pd\n",
    "import numpy as np\n",
    "\n",
    "import matplotlib.pyplot as plt\n",
    "import seaborn as sns\n",
    "\n",
    "import spacy\n",
    "from spacy import displacy\n",
    "\n",
    "import networkx as nx\n",
    "from pyvis.network import Network\n"
   ]
  },
  {
   "cell_type": "code",
   "execution_count": 2,
   "metadata": {},
   "outputs": [],
   "source": [
    "# !python3 -m spacy download en_core_web_sm"
   ]
  },
  {
   "cell_type": "markdown",
   "metadata": {},
   "source": [
    "## Scrapping the Character Names from the website "
   ]
  },
  {
   "cell_type": "code",
   "execution_count": 3,
   "metadata": {},
   "outputs": [],
   "source": [
    "# WEB_DRIVER = './driver/chromedriver'\n",
    "WEB_DRIVER_PATH = './driver/chrome'\n",
    "\n",
    "chrome_options = Options()\n",
    "chrome_options.add_argument(\"--headless\")\n",
    "chrome_options.add_argument(\"--window-size=1920x1080\")\n",
    "# chrome_options.add_argument(\"--disable-gpu\")\n",
    "chrome_options.add_argument(\"--no-sandbox\")"
   ]
  },
  {
   "cell_type": "code",
   "execution_count": 4,
   "metadata": {},
   "outputs": [
    {
     "name": "stderr",
     "output_type": "stream",
     "text": [
      "/tmp/ipykernel_25781/2682596246.py:1: DeprecationWarning: executable_path has been deprecated, please pass in a Service object\n",
      "  driver = webdriver.Chrome(WEB_DRIVER_PATH,  options=chrome_options)\n"
     ]
    }
   ],
   "source": [
    "driver = webdriver.Chrome(WEB_DRIVER_PATH,  options=chrome_options)\n",
    "driver.get('https://harrypotter.fandom.com/wiki/Category:Character_indexes')"
   ]
  },
  {
   "cell_type": "code",
   "execution_count": 5,
   "metadata": {},
   "outputs": [],
   "source": [
    "btn = driver.find_element(By.XPATH, '/html/body/div[7]/div/div/div[2]/div[2]')\n",
    "btn.click()"
   ]
  },
  {
   "cell_type": "code",
   "execution_count": 6,
   "metadata": {},
   "outputs": [
    {
     "name": "stdout",
     "output_type": "stream",
     "text": [
      "[<selenium.webdriver.remote.webelement.WebElement (session=\"c3f2c33f65600f3ed620613089168cd3\", element=\"dd96ac26-8a45-4b2e-8202-cff116ea903a\")>, <selenium.webdriver.remote.webelement.WebElement (session=\"c3f2c33f65600f3ed620613089168cd3\", element=\"08d625cd-7db9-4605-91a3-17849a34ac68\")>, <selenium.webdriver.remote.webelement.WebElement (session=\"c3f2c33f65600f3ed620613089168cd3\", element=\"28cb022b-2842-4bf4-bd94-cfbb8abead49\")>, <selenium.webdriver.remote.webelement.WebElement (session=\"c3f2c33f65600f3ed620613089168cd3\", element=\"5b202942-5e50-4322-8e32-f764df068d64\")>, <selenium.webdriver.remote.webelement.WebElement (session=\"c3f2c33f65600f3ed620613089168cd3\", element=\"fdbcb64f-a1de-4c5f-b8a1-46bd677fc041\")>, <selenium.webdriver.remote.webelement.WebElement (session=\"c3f2c33f65600f3ed620613089168cd3\", element=\"d04a5939-6fd2-4f9c-baaf-c0c4d2e255ee\")>, <selenium.webdriver.remote.webelement.WebElement (session=\"c3f2c33f65600f3ed620613089168cd3\", element=\"7d1f05a4-dd13-44df-aef4-ae98372c9952\")>]\n"
     ]
    }
   ],
   "source": [
    "list = driver.find_elements(By.CLASS_NAME, 'category-page__member-link')\n",
    "print(list)"
   ]
  },
  {
   "cell_type": "code",
   "execution_count": 7,
   "metadata": {},
   "outputs": [
    {
     "data": {
      "text/plain": [
       "{'Harry Potter and the Chamber of Secrets': 'https://harrypotter.fandom.com/wiki/Harry_Potter_and_the_Chamber_of_Secrets_(character_index)',\n",
       " 'Harry Potter and the Deathly Hallows': 'https://harrypotter.fandom.com/wiki/Harry_Potter_and_the_Deathly_Hallows_(character_index)',\n",
       " 'Harry Potter and the Goblet of Fire': 'https://harrypotter.fandom.com/wiki/Harry_Potter_and_the_Goblet_of_Fire_(character_index)',\n",
       " 'Harry Potter and the Half-Blood Prince': 'https://harrypotter.fandom.com/wiki/Harry_Potter_and_the_Half-Blood_Prince_(character_index)',\n",
       " 'Harry Potter and the Order of the Phoenix': 'https://harrypotter.fandom.com/wiki/Harry_Potter_and_the_Order_of_the_Phoenix_(character_index)',\n",
       " \"Harry Potter and the Philosopher's Stone\": 'https://harrypotter.fandom.com/wiki/Harry_Potter_and_the_Philosopher%27s_Stone_(character_index)',\n",
       " 'Harry Potter and the Prisoner of Azkaban': 'https://harrypotter.fandom.com/wiki/Harry_Potter_and_the_Prisoner_of_Azkaban_(character_index)'}"
      ]
     },
     "execution_count": 7,
     "metadata": {},
     "output_type": "execute_result"
    }
   ],
   "source": [
    "books = {}\n",
    "for i in list:\n",
    "    books[i.text.split(' (')[0]] = i.get_attribute('href')\n",
    "\n",
    "books\n"
   ]
  },
  {
   "cell_type": "code",
   "execution_count": 8,
   "metadata": {},
   "outputs": [
    {
     "name": "stdout",
     "output_type": "stream",
     "text": [
      "Harry Potter and the Chamber of Secrets\n",
      "69\n",
      "Harry Potter and the Deathly Hallows\n",
      "103\n",
      "Harry Potter and the Goblet of Fire\n",
      "175\n",
      "Harry Potter and the Half-Blood Prince\n",
      "111\n",
      "Harry Potter and the Order of the Phoenix\n",
      "151\n",
      "Harry Potter and the Philosopher's Stone\n",
      "163\n",
      "Harry Potter and the Prisoner of Azkaban\n",
      "60\n"
     ]
    }
   ],
   "source": [
    "book_arr = []\n",
    "character_arr = []\n",
    "for book in books:\n",
    "    driver.get(books[book])\n",
    "    time.sleep(4)\n",
    "    if \"Harry Potter and the Philosopher's Stone\" in book or \"Harry Potter and the Chamber of Secrets\" in book:\n",
    "        list_character = driver.find_elements(By.XPATH, '//tr')\n",
    "        print(book)\n",
    "        print(len(list_character))\n",
    "        for i in list_character:\n",
    "            character_arr.append(i.text)\n",
    "            book_arr.append(book)\n",
    "    else:\n",
    "        list_character = driver.find_elements(By.XPATH, '//*[@id=\"mw-content-text\"]/div/ul/li')\n",
    "        print(book)\n",
    "        print(len(list_character))\n",
    "        for i in list_character:\n",
    "            if 'Harry Potter and the' not in i.text:\n",
    "                character_arr.append(i.text)\n",
    "                book_arr.append(book)"
   ]
  },
  {
   "cell_type": "code",
   "execution_count": 9,
   "metadata": {},
   "outputs": [],
   "source": [
    "driver.close()"
   ]
  },
  {
   "cell_type": "code",
   "execution_count": 10,
   "metadata": {},
   "outputs": [],
   "source": [
    "df = pd.DataFrame({'book': book_arr, 'character': character_arr})"
   ]
  },
  {
   "cell_type": "code",
   "execution_count": 11,
   "metadata": {},
   "outputs": [
    {
     "data": {
      "text/html": [
       "<div>\n",
       "<style scoped>\n",
       "    .dataframe tbody tr th:only-of-type {\n",
       "        vertical-align: middle;\n",
       "    }\n",
       "\n",
       "    .dataframe tbody tr th {\n",
       "        vertical-align: top;\n",
       "    }\n",
       "\n",
       "    .dataframe thead th {\n",
       "        text-align: right;\n",
       "    }\n",
       "</style>\n",
       "<table border=\"1\" class=\"dataframe\">\n",
       "  <thead>\n",
       "    <tr style=\"text-align: right;\">\n",
       "      <th></th>\n",
       "      <th>book</th>\n",
       "      <th>character</th>\n",
       "    </tr>\n",
       "  </thead>\n",
       "  <tbody>\n",
       "    <tr>\n",
       "      <th>0</th>\n",
       "      <td>Harry Potter and the Chamber of Secrets</td>\n",
       "      <td>Mr Mason</td>\n",
       "    </tr>\n",
       "    <tr>\n",
       "      <th>1</th>\n",
       "      <td>Harry Potter and the Chamber of Secrets</td>\n",
       "      <td>Mrs Mason</td>\n",
       "    </tr>\n",
       "    <tr>\n",
       "      <th>2</th>\n",
       "      <td>Harry Potter and the Chamber of Secrets</td>\n",
       "      <td>Dobby</td>\n",
       "    </tr>\n",
       "    <tr>\n",
       "      <th>3</th>\n",
       "      <td>Harry Potter and the Chamber of Secrets</td>\n",
       "      <td>Mafalda Hopkirk</td>\n",
       "    </tr>\n",
       "    <tr>\n",
       "      <th>4</th>\n",
       "      <td>Harry Potter and the Chamber of Secrets</td>\n",
       "      <td>Errol</td>\n",
       "    </tr>\n",
       "  </tbody>\n",
       "</table>\n",
       "</div>"
      ],
      "text/plain": [
       "                                      book        character\n",
       "0  Harry Potter and the Chamber of Secrets         Mr Mason\n",
       "1  Harry Potter and the Chamber of Secrets        Mrs Mason\n",
       "2  Harry Potter and the Chamber of Secrets            Dobby\n",
       "3  Harry Potter and the Chamber of Secrets  Mafalda Hopkirk\n",
       "4  Harry Potter and the Chamber of Secrets            Errol"
      ]
     },
     "execution_count": 11,
     "metadata": {},
     "output_type": "execute_result"
    }
   ],
   "source": [
    "df.head()"
   ]
  },
  {
   "cell_type": "markdown",
   "metadata": {},
   "source": [
    "## Data Exploration"
   ]
  },
  {
   "cell_type": "code",
   "execution_count": null,
   "metadata": {},
   "outputs": [],
   "source": [
    "dv = df.groupby('book').count()"
   ]
  },
  {
   "cell_type": "code",
   "execution_count": null,
   "metadata": {},
   "outputs": [],
   "source": [
    "# plot seaborn bar plot\n",
    "plt.figure(figsize=(10, 5))\n",
    "sns.barplot(x=dv.index, y=dv['character'])\n",
    "plt.title('Number of characters in each book')\n",
    "plt.xlabel('Book Name')\n",
    "plt.ylabel('Number of characters')\n",
    "plt.xticks(rotation=90)\n",
    "plt.show()"
   ]
  },
  {
   "cell_type": "markdown",
   "metadata": {},
   "source": [
    "## Entity Extraction Book 1"
   ]
  },
  {
   "cell_type": "code",
   "execution_count": null,
   "metadata": {},
   "outputs": [],
   "source": [
    "# Spacy english language model\n",
    "nlp = spacy.load('en_core_web_sm')"
   ]
  },
  {
   "cell_type": "code",
   "execution_count": null,
   "metadata": {},
   "outputs": [],
   "source": [
    "books = [i for i in os.scandir('./book/')]\n",
    "books"
   ]
  },
  {
   "cell_type": "code",
   "execution_count": null,
   "metadata": {},
   "outputs": [],
   "source": [
    "book = books[0]\n",
    "book_text = open(book, 'r').read()\n",
    "book_doc = nlp(book_text)"
   ]
  },
  {
   "cell_type": "code",
   "execution_count": null,
   "metadata": {},
   "outputs": [],
   "source": [
    "displacy.render(book_doc[:100], style='ent', jupyter=True)"
   ]
  },
  {
   "cell_type": "code",
   "execution_count": null,
   "metadata": {},
   "outputs": [],
   "source": [
    "book1_df = df[df['book']==\"Harry Potter and the Philosopher's Stone\"]\n",
    "book1_df.reset_index(drop=True, inplace=True)\n",
    "book1_df.head()"
   ]
  },
  {
   "cell_type": "code",
   "execution_count": null,
   "metadata": {},
   "outputs": [],
   "source": [
    "book1_df.loc[:, 'first_name'] = book1_df['character'].apply(lambda x: x.split(' ')[0])"
   ]
  },
  {
   "cell_type": "code",
   "execution_count": null,
   "metadata": {},
   "outputs": [],
   "source": [
    "book1_df.head()"
   ]
  },
  {
   "cell_type": "code",
   "execution_count": null,
   "metadata": {},
   "outputs": [],
   "source": [
    "sentences = {'sentence': [], 'entity': []}\n",
    "for sent in book_doc.sents:\n",
    "    sent_ent = [ent.text for ent in sent.ents]\n",
    "    sentences['sentence'].append(sent)\n",
    "    sentences['entity'].append(sent_ent)\n",
    "\n",
    "sentences_df = pd.DataFrame(sentences)\n"
   ]
  },
  {
   "cell_type": "code",
   "execution_count": null,
   "metadata": {},
   "outputs": [],
   "source": [
    "sentences_df.head()"
   ]
  },
  {
   "cell_type": "code",
   "execution_count": null,
   "metadata": {},
   "outputs": [],
   "source": [
    "# fileter entity containg character name\n",
    "sentences_df['entity'] = sentences_df['entity'].apply(lambda x: [i for i in x if i in book1_df['character'].values or i in book1_df['first_name'].values])"
   ]
  },
  {
   "cell_type": "code",
   "execution_count": null,
   "metadata": {},
   "outputs": [],
   "source": [
    "sentences_df_filtered = sentences_df[sentences_df['entity'].apply(lambda x: len(x) > 0)]"
   ]
  },
  {
   "cell_type": "code",
   "execution_count": null,
   "metadata": {},
   "outputs": [],
   "source": [
    "# take only the first name entity\n",
    "sentences_df_filtered['entity'] = sentences_df_filtered['entity'].apply(lambda x: [i.split(' ')[0] for i in x])"
   ]
  },
  {
   "cell_type": "code",
   "execution_count": null,
   "metadata": {},
   "outputs": [],
   "source": [
    "sentences_df_filtered.reset_index(drop=True, inplace=True)"
   ]
  },
  {
   "cell_type": "code",
   "execution_count": null,
   "metadata": {},
   "outputs": [],
   "source": [
    "window_size = 5\n",
    "relationships = []\n",
    "for i in range(len(sentences_df_filtered)):\n",
    "    end_val = min(i + window_size, len(sentences_df_filtered))\n",
    "    temp = sentences_df_filtered.loc[i:end_val,'entity'].sum()\n",
    "    # getting unique values\n",
    "    temp_unique = [temp[i] for i in range(len(temp)) if i==0 or temp[i] != temp[i-1]]\n",
    "    \n",
    "    if len(temp_unique) > 1:\n",
    "        for j, a in enumerate(temp_unique[:-1]):\n",
    "            b = temp_unique[j+1]\n",
    "            relationships.append({'source': a, 'target': b})\n",
    "            "
   ]
  },
  {
   "cell_type": "code",
   "execution_count": null,
   "metadata": {},
   "outputs": [],
   "source": [
    "relationships_df = pd.DataFrame(relationships)\n",
    "relationships_df.head()"
   ]
  },
  {
   "cell_type": "code",
   "execution_count": null,
   "metadata": {},
   "outputs": [],
   "source": [
    "relationships_df = pd.DataFrame(np.sort(relationships_df.values, axis=1), columns=relationships_df.columns)"
   ]
  },
  {
   "cell_type": "code",
   "execution_count": null,
   "metadata": {},
   "outputs": [],
   "source": [
    "relationships_df['value'] = 1\n",
    "relationships_df = relationships_df.groupby(['source', 'target'], sort=False, as_index=False).sum()"
   ]
  },
  {
   "cell_type": "markdown",
   "metadata": {},
   "source": [
    "## Creating the Network"
   ]
  },
  {
   "cell_type": "code",
   "execution_count": null,
   "metadata": {},
   "outputs": [],
   "source": [
    "G = nx.from_pandas_edgelist(relationships_df, 'source', 'target', 'value', create_using=nx.Graph())"
   ]
  },
  {
   "cell_type": "code",
   "execution_count": null,
   "metadata": {},
   "outputs": [],
   "source": [
    "pos = nx.kamada_kawai_layout(G)\n",
    "nx.draw(G, pos, with_labels=True, node_color='skyblue', node_size=500, edge_cmap=plt.cm.Blues, width=2)\n",
    "plt.show()"
   ]
  },
  {
   "cell_type": "code",
   "execution_count": null,
   "metadata": {},
   "outputs": [],
   "source": [
    "net = Network(notebook=True, height='750px', width='100%', bgcolor='#222222', font_color='white')\n",
    "net.from_nx(G)\n",
    "net.show('HP1.html')"
   ]
  }
 ],
 "metadata": {
  "kernelspec": {
   "display_name": "Python 3 (ipykernel)",
   "language": "python",
   "name": "python3"
  },
  "language_info": {
   "codemirror_mode": {
    "name": "ipython",
    "version": 3
   },
   "file_extension": ".py",
   "mimetype": "text/x-python",
   "name": "python",
   "nbconvert_exporter": "python",
   "pygments_lexer": "ipython3",
   "version": "3.9.12"
  },
  "vscode": {
   "interpreter": {
    "hash": "466db9f32c1c88b86c7f961d49ad86adda2506db7f2c7f48b3c7db2633a079c5"
   }
  }
 },
 "nbformat": 4,
 "nbformat_minor": 2
}
